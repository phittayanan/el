{
 "cells": [
  {
   "cell_type": "code",
   "execution_count": 1,
   "id": "523f5322",
   "metadata": {},
   "outputs": [
    {
     "name": "stdout",
     "output_type": "stream",
     "text": [
      "please enter value of : 5\n",
      "y is 5\n"
     ]
    }
   ],
   "source": [
    "y = input(\"please enter value of : \")\n",
    "print(\"y is %s\"%(y))"
   ]
  },
  {
   "cell_type": "code",
   "execution_count": null,
   "id": "cc2a8978",
   "metadata": {},
   "outputs": [],
   "source": []
  }
 ],
 "metadata": {
  "kernelspec": {
   "display_name": "Python 3",
   "language": "python",
   "name": "python3"
  },
  "language_info": {
   "codemirror_mode": {
    "name": "ipython",
    "version": 3
   },
   "file_extension": ".py",
   "mimetype": "text/x-python",
   "name": "python",
   "nbconvert_exporter": "python",
   "pygments_lexer": "ipython3",
   "version": "3.6.13"
  }
 },
 "nbformat": 4,
 "nbformat_minor": 5
}
